{
 "cells": [
  {
   "cell_type": "code",
   "execution_count": 5,
   "metadata": {},
   "outputs": [],
   "source": [
    "import pandas as pd"
   ]
  },
  {
   "cell_type": "code",
   "execution_count": 6,
   "metadata": {},
   "outputs": [],
   "source": [
    "a = pd.read_csv('dags/123.csv')"
   ]
  },
  {
   "cell_type": "code",
   "execution_count": 7,
   "metadata": {},
   "outputs": [
    {
     "data": {
      "text/html": [
       "<div>\n",
       "<style scoped>\n",
       "    .dataframe tbody tr th:only-of-type {\n",
       "        vertical-align: middle;\n",
       "    }\n",
       "\n",
       "    .dataframe tbody tr th {\n",
       "        vertical-align: top;\n",
       "    }\n",
       "\n",
       "    .dataframe thead th {\n",
       "        text-align: right;\n",
       "    }\n",
       "</style>\n",
       "<table border=\"1\" class=\"dataframe\">\n",
       "  <thead>\n",
       "    <tr style=\"text-align: right;\">\n",
       "      <th></th>\n",
       "      <th>BENE_ID|CLM_ID|NCH_NEAR_LINE_REC_IDENT_CD|NCH_CLM_TYPE_CD|CLM_FROM_DT|CLM_THRU_DT|NCH_WKLY_PROC_DT|FI_CLM_PROC_DT|CLAIM_QUERY_CODE|PRVDR_NUM|CLM_FAC_TYPE_CD|CLM_SRVC_CLSFCTN_TYPE_CD|CLM_FREQ_CD|FI_NUM|CLM_MDCR_NON_PMT_RSN_CD|CLM_PMT_AMT|NCH_PRMRY_PYR_CLM_PD_AMT|NCH_PRMRY_PYR_CD|PRVDR_STATE_CD|ORG_NPI_NUM|AT_PHYSN_UPIN|AT_PHYSN_NPI|OP_PHYSN_UPIN|OP_PHYSN_NPI|OT_PHYSN_UPIN|OT_PHYSN_NPI|CLM_MCO_PD_SW|PTNT_DSCHRG_STUS_CD|CLM_TOT_CHRG_AMT|NCH_BENE_BLOOD_DDCTBL_LBLTY_AM|NCH_PROFNL_CMPNT_CHRG_AMT|PRNCPAL_DGNS_CD|ICD_DGNS_CD1|ICD_DGNS_CD2|ICD_DGNS_CD3|ICD_DGNS_CD4|ICD_DGNS_CD5|ICD_DGNS_CD6|ICD_DGNS_CD7|ICD_DGNS_CD8|ICD_DGNS_CD9|ICD_DGNS_CD10|ICD_DGNS_CD11|ICD_DGNS_CD12|ICD_DGNS_CD13|ICD_DGNS_CD14|ICD_DGNS_CD15|ICD_DGNS_CD16|ICD_DGNS_CD17|ICD_DGNS_CD18|ICD_DGNS_CD19|ICD_DGNS_CD20|ICD_DGNS_CD21|ICD_DGNS_CD22|ICD_DGNS_CD23|ICD_DGNS_CD24|ICD_DGNS_CD25|FST_DGNS_E_CD|ICD_DGNS_E_CD1|ICD_DGNS_E_CD2|ICD_DGNS_E_CD3|ICD_DGNS_E_CD4|ICD_DGNS_E_CD5|ICD_DGNS_E_CD6|ICD_DGNS_E_CD7|ICD_DGNS_E_CD8|ICD_DGNS_E_CD9|ICD_DGNS_E_CD10|ICD_DGNS_E_CD11|ICD_DGNS_E_CD12|ICD_PRCDR_CD1|PRCDR_DT1|ICD_PRCDR_CD2|PRCDR_DT2|ICD_PRCDR_CD3|PRCDR_DT3|ICD_PRCDR_CD4|PRCDR_DT4|ICD_PRCDR_CD5|PRCDR_DT5|ICD_PRCDR_CD6|PRCDR_DT6|ICD_PRCDR_CD7|PRCDR_DT7|ICD_PRCDR_CD8|PRCDR_DT8|ICD_PRCDR_CD9|PRCDR_DT9|ICD_PRCDR_CD10|PRCDR_DT10|ICD_PRCDR_CD11|PRCDR_DT11|ICD_PRCDR_CD12|PRCDR_DT12|ICD_PRCDR_CD13|PRCDR_DT13|ICD_PRCDR_CD14|PRCDR_DT14|ICD_PRCDR_CD15|PRCDR_DT15|ICD_PRCDR_CD16|PRCDR_DT16|ICD_PRCDR_CD17|PRCDR_DT17|ICD_PRCDR_CD18|PRCDR_DT18|ICD_PRCDR_CD19|PRCDR_DT19|ICD_PRCDR_CD20|PRCDR_DT20|ICD_PRCDR_CD21|PRCDR_DT21|ICD_PRCDR_CD22|PRCDR_DT22|ICD_PRCDR_CD23|PRCDR_DT23|ICD_PRCDR_CD24|PRCDR_DT24|ICD_PRCDR_CD25|PRCDR_DT25|RSN_VISIT_CD1|RSN_VISIT_CD2|RSN_VISIT_CD3|NCH_BENE_PTB_DDCTBL_AMT|NCH_BENE_PTB_COINSRNC_AMT|CLM_OP_PRVDR_PMT_AMT|CLM_OP_BENE_PMT_AMT|CLM_LINE_NUM|REV_CNTR|REV_CNTR_DT|REV_CNTR_1ST_ANSI_CD|REV_CNTR_2ND_ANSI_CD|REV_CNTR_3RD_ANSI_CD|REV_CNTR_4TH_ANSI_CD|REV_CNTR_APC_HIPPS_CD|HCPCS_CD|HCPCS_1ST_MDFR_CD|HCPCS_2ND_MDFR_CD|REV_CNTR_PMT_MTHD_IND_CD|REV_CNTR_DSCNT_IND_CD|REV_CNTR_PACKG_IND_CD|REV_CNTR_OTAF_PMT_CD|REV_CNTR_IDE_NDC_UPC_NUM|REV_CNTR_UNIT_CNT|REV_CNTR_RATE_AMT|REV_CNTR_BLOOD_DDCTBL_AMT|REV_CNTR_CASH_DDCTBL_AMT|REV_CNTR_COINSRNC_WGE_ADJSTD_C|REV_CNTR_RDCD_COINSRNC_AMT|REV_CNTR_1ST_MSP_PD_AMT|REV_CNTR_2ND_MSP_PD_AMT|REV_CNTR_PRVDR_PMT_AMT|REV_CNTR_BENE_PMT_AMT|REV_CNTR_PTNT_RSPNSBLTY_PMT|REV_CNTR_PMT_AMT_AMT|REV_CNTR_TOT_CHRG_AMT|REV_CNTR_NCVRD_CHRG_AMT|REV_CNTR_STUS_IND_CD|REV_CNTR_NDC_QTY|REV_CNTR_NDC_QTY_QLFR_CD|RNDRNG_PHYSN_UPIN|RNDRNG_PHYSN_NPI</th>\n",
       "    </tr>\n",
       "  </thead>\n",
       "  <tbody>\n",
       "    <tr>\n",
       "      <th>count</th>\n",
       "      <td>575092</td>\n",
       "    </tr>\n",
       "    <tr>\n",
       "      <th>unique</th>\n",
       "      <td>575092</td>\n",
       "    </tr>\n",
       "    <tr>\n",
       "      <th>top</th>\n",
       "      <td>-10000010288007|-10000931486354|W|40|11-Sep-20...</td>\n",
       "    </tr>\n",
       "    <tr>\n",
       "      <th>freq</th>\n",
       "      <td>1</td>\n",
       "    </tr>\n",
       "  </tbody>\n",
       "</table>\n",
       "</div>"
      ],
      "text/plain": [
       "       BENE_ID|CLM_ID|NCH_NEAR_LINE_REC_IDENT_CD|NCH_CLM_TYPE_CD|CLM_FROM_DT|CLM_THRU_DT|NCH_WKLY_PROC_DT|FI_CLM_PROC_DT|CLAIM_QUERY_CODE|PRVDR_NUM|CLM_FAC_TYPE_CD|CLM_SRVC_CLSFCTN_TYPE_CD|CLM_FREQ_CD|FI_NUM|CLM_MDCR_NON_PMT_RSN_CD|CLM_PMT_AMT|NCH_PRMRY_PYR_CLM_PD_AMT|NCH_PRMRY_PYR_CD|PRVDR_STATE_CD|ORG_NPI_NUM|AT_PHYSN_UPIN|AT_PHYSN_NPI|OP_PHYSN_UPIN|OP_PHYSN_NPI|OT_PHYSN_UPIN|OT_PHYSN_NPI|CLM_MCO_PD_SW|PTNT_DSCHRG_STUS_CD|CLM_TOT_CHRG_AMT|NCH_BENE_BLOOD_DDCTBL_LBLTY_AM|NCH_PROFNL_CMPNT_CHRG_AMT|PRNCPAL_DGNS_CD|ICD_DGNS_CD1|ICD_DGNS_CD2|ICD_DGNS_CD3|ICD_DGNS_CD4|ICD_DGNS_CD5|ICD_DGNS_CD6|ICD_DGNS_CD7|ICD_DGNS_CD8|ICD_DGNS_CD9|ICD_DGNS_CD10|ICD_DGNS_CD11|ICD_DGNS_CD12|ICD_DGNS_CD13|ICD_DGNS_CD14|ICD_DGNS_CD15|ICD_DGNS_CD16|ICD_DGNS_CD17|ICD_DGNS_CD18|ICD_DGNS_CD19|ICD_DGNS_CD20|ICD_DGNS_CD21|ICD_DGNS_CD22|ICD_DGNS_CD23|ICD_DGNS_CD24|ICD_DGNS_CD25|FST_DGNS_E_CD|ICD_DGNS_E_CD1|ICD_DGNS_E_CD2|ICD_DGNS_E_CD3|ICD_DGNS_E_CD4|ICD_DGNS_E_CD5|ICD_DGNS_E_CD6|ICD_DGNS_E_CD7|ICD_DGNS_E_CD8|ICD_DGNS_E_CD9|ICD_DGNS_E_CD10|ICD_DGNS_E_CD11|ICD_DGNS_E_CD12|ICD_PRCDR_CD1|PRCDR_DT1|ICD_PRCDR_CD2|PRCDR_DT2|ICD_PRCDR_CD3|PRCDR_DT3|ICD_PRCDR_CD4|PRCDR_DT4|ICD_PRCDR_CD5|PRCDR_DT5|ICD_PRCDR_CD6|PRCDR_DT6|ICD_PRCDR_CD7|PRCDR_DT7|ICD_PRCDR_CD8|PRCDR_DT8|ICD_PRCDR_CD9|PRCDR_DT9|ICD_PRCDR_CD10|PRCDR_DT10|ICD_PRCDR_CD11|PRCDR_DT11|ICD_PRCDR_CD12|PRCDR_DT12|ICD_PRCDR_CD13|PRCDR_DT13|ICD_PRCDR_CD14|PRCDR_DT14|ICD_PRCDR_CD15|PRCDR_DT15|ICD_PRCDR_CD16|PRCDR_DT16|ICD_PRCDR_CD17|PRCDR_DT17|ICD_PRCDR_CD18|PRCDR_DT18|ICD_PRCDR_CD19|PRCDR_DT19|ICD_PRCDR_CD20|PRCDR_DT20|ICD_PRCDR_CD21|PRCDR_DT21|ICD_PRCDR_CD22|PRCDR_DT22|ICD_PRCDR_CD23|PRCDR_DT23|ICD_PRCDR_CD24|PRCDR_DT24|ICD_PRCDR_CD25|PRCDR_DT25|RSN_VISIT_CD1|RSN_VISIT_CD2|RSN_VISIT_CD3|NCH_BENE_PTB_DDCTBL_AMT|NCH_BENE_PTB_COINSRNC_AMT|CLM_OP_PRVDR_PMT_AMT|CLM_OP_BENE_PMT_AMT|CLM_LINE_NUM|REV_CNTR|REV_CNTR_DT|REV_CNTR_1ST_ANSI_CD|REV_CNTR_2ND_ANSI_CD|REV_CNTR_3RD_ANSI_CD|REV_CNTR_4TH_ANSI_CD|REV_CNTR_APC_HIPPS_CD|HCPCS_CD|HCPCS_1ST_MDFR_CD|HCPCS_2ND_MDFR_CD|REV_CNTR_PMT_MTHD_IND_CD|REV_CNTR_DSCNT_IND_CD|REV_CNTR_PACKG_IND_CD|REV_CNTR_OTAF_PMT_CD|REV_CNTR_IDE_NDC_UPC_NUM|REV_CNTR_UNIT_CNT|REV_CNTR_RATE_AMT|REV_CNTR_BLOOD_DDCTBL_AMT|REV_CNTR_CASH_DDCTBL_AMT|REV_CNTR_COINSRNC_WGE_ADJSTD_C|REV_CNTR_RDCD_COINSRNC_AMT|REV_CNTR_1ST_MSP_PD_AMT|REV_CNTR_2ND_MSP_PD_AMT|REV_CNTR_PRVDR_PMT_AMT|REV_CNTR_BENE_PMT_AMT|REV_CNTR_PTNT_RSPNSBLTY_PMT|REV_CNTR_PMT_AMT_AMT|REV_CNTR_TOT_CHRG_AMT|REV_CNTR_NCVRD_CHRG_AMT|REV_CNTR_STUS_IND_CD|REV_CNTR_NDC_QTY|REV_CNTR_NDC_QTY_QLFR_CD|RNDRNG_PHYSN_UPIN|RNDRNG_PHYSN_NPI\n",
       "count                                              575092                                                                                                                                                                                                                                                                                                                                                                                                                                                                                                                                                                                                                                                                                                                                                                                                                                                                                                                                                                                                                                                                                                                                                                                                                                                                                                                                                                                                                                                                                                                                                                                                                                                                                                                                                                                                                                                                                                                                                                                                                                                                                                                                                                                                                                                                                                                                                                                                                                                                                                                                                                                              \n",
       "unique                                             575092                                                                                                                                                                                                                                                                                                                                                                                                                                                                                                                                                                                                                                                                                                                                                                                                                                                                                                                                                                                                                                                                                                                                                                                                                                                                                                                                                                                                                                                                                                                                                                                                                                                                                                                                                                                                                                                                                                                                                                                                                                                                                                                                                                                                                                                                                                                                                                                                                                                                                                                                                                                              \n",
       "top     -10000010288007|-10000931486354|W|40|11-Sep-20...                                                                                                                                                                                                                                                                                                                                                                                                                                                                                                                                                                                                                                                                                                                                                                                                                                                                                                                                                                                                                                                                                                                                                                                                                                                                                                                                                                                                                                                                                                                                                                                                                                                                                                                                                                                                                                                                                                                                                                                                                                                                                                                                                                                                                                                                                                                                                                                                                                                                                                                                                                                              \n",
       "freq                                                    1                                                                                                                                                                                                                                                                                                                                                                                                                                                                                                                                                                                                                                                                                                                                                                                                                                                                                                                                                                                                                                                                                                                                                                                                                                                                                                                                                                                                                                                                                                                                                                                                                                                                                                                                                                                                                                                                                                                                                                                                                                                                                                                                                                                                                                                                                                                                                                                                                                                                                                                                                                                              "
      ]
     },
     "execution_count": 7,
     "metadata": {},
     "output_type": "execute_result"
    }
   ],
   "source": [
    "a.describe()"
   ]
  },
  {
   "cell_type": "code",
   "execution_count": 8,
   "metadata": {},
   "outputs": [
    {
     "data": {
      "text/html": [
       "<div>\n",
       "<style scoped>\n",
       "    .dataframe tbody tr th:only-of-type {\n",
       "        vertical-align: middle;\n",
       "    }\n",
       "\n",
       "    .dataframe tbody tr th {\n",
       "        vertical-align: top;\n",
       "    }\n",
       "\n",
       "    .dataframe thead th {\n",
       "        text-align: right;\n",
       "    }\n",
       "</style>\n",
       "<table border=\"1\" class=\"dataframe\">\n",
       "  <thead>\n",
       "    <tr style=\"text-align: right;\">\n",
       "      <th></th>\n",
       "      <th>BENE_ID|CLM_ID|NCH_NEAR_LINE_REC_IDENT_CD|NCH_CLM_TYPE_CD|CLM_FROM_DT|CLM_THRU_DT|NCH_WKLY_PROC_DT|FI_CLM_PROC_DT|CLAIM_QUERY_CODE|PRVDR_NUM|CLM_FAC_TYPE_CD|CLM_SRVC_CLSFCTN_TYPE_CD|CLM_FREQ_CD|FI_NUM|CLM_MDCR_NON_PMT_RSN_CD|CLM_PMT_AMT|NCH_PRMRY_PYR_CLM_PD_AMT|NCH_PRMRY_PYR_CD|PRVDR_STATE_CD|ORG_NPI_NUM|AT_PHYSN_UPIN|AT_PHYSN_NPI|OP_PHYSN_UPIN|OP_PHYSN_NPI|OT_PHYSN_UPIN|OT_PHYSN_NPI|CLM_MCO_PD_SW|PTNT_DSCHRG_STUS_CD|CLM_TOT_CHRG_AMT|NCH_BENE_BLOOD_DDCTBL_LBLTY_AM|NCH_PROFNL_CMPNT_CHRG_AMT|PRNCPAL_DGNS_CD|ICD_DGNS_CD1|ICD_DGNS_CD2|ICD_DGNS_CD3|ICD_DGNS_CD4|ICD_DGNS_CD5|ICD_DGNS_CD6|ICD_DGNS_CD7|ICD_DGNS_CD8|ICD_DGNS_CD9|ICD_DGNS_CD10|ICD_DGNS_CD11|ICD_DGNS_CD12|ICD_DGNS_CD13|ICD_DGNS_CD14|ICD_DGNS_CD15|ICD_DGNS_CD16|ICD_DGNS_CD17|ICD_DGNS_CD18|ICD_DGNS_CD19|ICD_DGNS_CD20|ICD_DGNS_CD21|ICD_DGNS_CD22|ICD_DGNS_CD23|ICD_DGNS_CD24|ICD_DGNS_CD25|FST_DGNS_E_CD|ICD_DGNS_E_CD1|ICD_DGNS_E_CD2|ICD_DGNS_E_CD3|ICD_DGNS_E_CD4|ICD_DGNS_E_CD5|ICD_DGNS_E_CD6|ICD_DGNS_E_CD7|ICD_DGNS_E_CD8|ICD_DGNS_E_CD9|ICD_DGNS_E_CD10|ICD_DGNS_E_CD11|ICD_DGNS_E_CD12|ICD_PRCDR_CD1|PRCDR_DT1|ICD_PRCDR_CD2|PRCDR_DT2|ICD_PRCDR_CD3|PRCDR_DT3|ICD_PRCDR_CD4|PRCDR_DT4|ICD_PRCDR_CD5|PRCDR_DT5|ICD_PRCDR_CD6|PRCDR_DT6|ICD_PRCDR_CD7|PRCDR_DT7|ICD_PRCDR_CD8|PRCDR_DT8|ICD_PRCDR_CD9|PRCDR_DT9|ICD_PRCDR_CD10|PRCDR_DT10|ICD_PRCDR_CD11|PRCDR_DT11|ICD_PRCDR_CD12|PRCDR_DT12|ICD_PRCDR_CD13|PRCDR_DT13|ICD_PRCDR_CD14|PRCDR_DT14|ICD_PRCDR_CD15|PRCDR_DT15|ICD_PRCDR_CD16|PRCDR_DT16|ICD_PRCDR_CD17|PRCDR_DT17|ICD_PRCDR_CD18|PRCDR_DT18|ICD_PRCDR_CD19|PRCDR_DT19|ICD_PRCDR_CD20|PRCDR_DT20|ICD_PRCDR_CD21|PRCDR_DT21|ICD_PRCDR_CD22|PRCDR_DT22|ICD_PRCDR_CD23|PRCDR_DT23|ICD_PRCDR_CD24|PRCDR_DT24|ICD_PRCDR_CD25|PRCDR_DT25|RSN_VISIT_CD1|RSN_VISIT_CD2|RSN_VISIT_CD3|NCH_BENE_PTB_DDCTBL_AMT|NCH_BENE_PTB_COINSRNC_AMT|CLM_OP_PRVDR_PMT_AMT|CLM_OP_BENE_PMT_AMT|CLM_LINE_NUM|REV_CNTR|REV_CNTR_DT|REV_CNTR_1ST_ANSI_CD|REV_CNTR_2ND_ANSI_CD|REV_CNTR_3RD_ANSI_CD|REV_CNTR_4TH_ANSI_CD|REV_CNTR_APC_HIPPS_CD|HCPCS_CD|HCPCS_1ST_MDFR_CD|HCPCS_2ND_MDFR_CD|REV_CNTR_PMT_MTHD_IND_CD|REV_CNTR_DSCNT_IND_CD|REV_CNTR_PACKG_IND_CD|REV_CNTR_OTAF_PMT_CD|REV_CNTR_IDE_NDC_UPC_NUM|REV_CNTR_UNIT_CNT|REV_CNTR_RATE_AMT|REV_CNTR_BLOOD_DDCTBL_AMT|REV_CNTR_CASH_DDCTBL_AMT|REV_CNTR_COINSRNC_WGE_ADJSTD_C|REV_CNTR_RDCD_COINSRNC_AMT|REV_CNTR_1ST_MSP_PD_AMT|REV_CNTR_2ND_MSP_PD_AMT|REV_CNTR_PRVDR_PMT_AMT|REV_CNTR_BENE_PMT_AMT|REV_CNTR_PTNT_RSPNSBLTY_PMT|REV_CNTR_PMT_AMT_AMT|REV_CNTR_TOT_CHRG_AMT|REV_CNTR_NCVRD_CHRG_AMT|REV_CNTR_STUS_IND_CD|REV_CNTR_NDC_QTY|REV_CNTR_NDC_QTY_QLFR_CD|RNDRNG_PHYSN_UPIN|RNDRNG_PHYSN_NPI</th>\n",
       "    </tr>\n",
       "  </thead>\n",
       "  <tbody>\n",
       "    <tr>\n",
       "      <th>0</th>\n",
       "      <td>-10000010254618|-10000930037832|W|40|16-Mar-20...</td>\n",
       "    </tr>\n",
       "    <tr>\n",
       "      <th>1</th>\n",
       "      <td>-10000010254618|-10000930037833|W|40|27-Apr-20...</td>\n",
       "    </tr>\n",
       "    <tr>\n",
       "      <th>2</th>\n",
       "      <td>-10000010254618|-10000930037834|W|40|23-May-20...</td>\n",
       "    </tr>\n",
       "    <tr>\n",
       "      <th>3</th>\n",
       "      <td>-10000010254618|-10000930037835|W|40|01-Jun-20...</td>\n",
       "    </tr>\n",
       "    <tr>\n",
       "      <th>4</th>\n",
       "      <td>-10000010254618|-10000930037836|W|40|14-Jun-20...</td>\n",
       "    </tr>\n",
       "  </tbody>\n",
       "</table>\n",
       "</div>"
      ],
      "text/plain": [
       "  BENE_ID|CLM_ID|NCH_NEAR_LINE_REC_IDENT_CD|NCH_CLM_TYPE_CD|CLM_FROM_DT|CLM_THRU_DT|NCH_WKLY_PROC_DT|FI_CLM_PROC_DT|CLAIM_QUERY_CODE|PRVDR_NUM|CLM_FAC_TYPE_CD|CLM_SRVC_CLSFCTN_TYPE_CD|CLM_FREQ_CD|FI_NUM|CLM_MDCR_NON_PMT_RSN_CD|CLM_PMT_AMT|NCH_PRMRY_PYR_CLM_PD_AMT|NCH_PRMRY_PYR_CD|PRVDR_STATE_CD|ORG_NPI_NUM|AT_PHYSN_UPIN|AT_PHYSN_NPI|OP_PHYSN_UPIN|OP_PHYSN_NPI|OT_PHYSN_UPIN|OT_PHYSN_NPI|CLM_MCO_PD_SW|PTNT_DSCHRG_STUS_CD|CLM_TOT_CHRG_AMT|NCH_BENE_BLOOD_DDCTBL_LBLTY_AM|NCH_PROFNL_CMPNT_CHRG_AMT|PRNCPAL_DGNS_CD|ICD_DGNS_CD1|ICD_DGNS_CD2|ICD_DGNS_CD3|ICD_DGNS_CD4|ICD_DGNS_CD5|ICD_DGNS_CD6|ICD_DGNS_CD7|ICD_DGNS_CD8|ICD_DGNS_CD9|ICD_DGNS_CD10|ICD_DGNS_CD11|ICD_DGNS_CD12|ICD_DGNS_CD13|ICD_DGNS_CD14|ICD_DGNS_CD15|ICD_DGNS_CD16|ICD_DGNS_CD17|ICD_DGNS_CD18|ICD_DGNS_CD19|ICD_DGNS_CD20|ICD_DGNS_CD21|ICD_DGNS_CD22|ICD_DGNS_CD23|ICD_DGNS_CD24|ICD_DGNS_CD25|FST_DGNS_E_CD|ICD_DGNS_E_CD1|ICD_DGNS_E_CD2|ICD_DGNS_E_CD3|ICD_DGNS_E_CD4|ICD_DGNS_E_CD5|ICD_DGNS_E_CD6|ICD_DGNS_E_CD7|ICD_DGNS_E_CD8|ICD_DGNS_E_CD9|ICD_DGNS_E_CD10|ICD_DGNS_E_CD11|ICD_DGNS_E_CD12|ICD_PRCDR_CD1|PRCDR_DT1|ICD_PRCDR_CD2|PRCDR_DT2|ICD_PRCDR_CD3|PRCDR_DT3|ICD_PRCDR_CD4|PRCDR_DT4|ICD_PRCDR_CD5|PRCDR_DT5|ICD_PRCDR_CD6|PRCDR_DT6|ICD_PRCDR_CD7|PRCDR_DT7|ICD_PRCDR_CD8|PRCDR_DT8|ICD_PRCDR_CD9|PRCDR_DT9|ICD_PRCDR_CD10|PRCDR_DT10|ICD_PRCDR_CD11|PRCDR_DT11|ICD_PRCDR_CD12|PRCDR_DT12|ICD_PRCDR_CD13|PRCDR_DT13|ICD_PRCDR_CD14|PRCDR_DT14|ICD_PRCDR_CD15|PRCDR_DT15|ICD_PRCDR_CD16|PRCDR_DT16|ICD_PRCDR_CD17|PRCDR_DT17|ICD_PRCDR_CD18|PRCDR_DT18|ICD_PRCDR_CD19|PRCDR_DT19|ICD_PRCDR_CD20|PRCDR_DT20|ICD_PRCDR_CD21|PRCDR_DT21|ICD_PRCDR_CD22|PRCDR_DT22|ICD_PRCDR_CD23|PRCDR_DT23|ICD_PRCDR_CD24|PRCDR_DT24|ICD_PRCDR_CD25|PRCDR_DT25|RSN_VISIT_CD1|RSN_VISIT_CD2|RSN_VISIT_CD3|NCH_BENE_PTB_DDCTBL_AMT|NCH_BENE_PTB_COINSRNC_AMT|CLM_OP_PRVDR_PMT_AMT|CLM_OP_BENE_PMT_AMT|CLM_LINE_NUM|REV_CNTR|REV_CNTR_DT|REV_CNTR_1ST_ANSI_CD|REV_CNTR_2ND_ANSI_CD|REV_CNTR_3RD_ANSI_CD|REV_CNTR_4TH_ANSI_CD|REV_CNTR_APC_HIPPS_CD|HCPCS_CD|HCPCS_1ST_MDFR_CD|HCPCS_2ND_MDFR_CD|REV_CNTR_PMT_MTHD_IND_CD|REV_CNTR_DSCNT_IND_CD|REV_CNTR_PACKG_IND_CD|REV_CNTR_OTAF_PMT_CD|REV_CNTR_IDE_NDC_UPC_NUM|REV_CNTR_UNIT_CNT|REV_CNTR_RATE_AMT|REV_CNTR_BLOOD_DDCTBL_AMT|REV_CNTR_CASH_DDCTBL_AMT|REV_CNTR_COINSRNC_WGE_ADJSTD_C|REV_CNTR_RDCD_COINSRNC_AMT|REV_CNTR_1ST_MSP_PD_AMT|REV_CNTR_2ND_MSP_PD_AMT|REV_CNTR_PRVDR_PMT_AMT|REV_CNTR_BENE_PMT_AMT|REV_CNTR_PTNT_RSPNSBLTY_PMT|REV_CNTR_PMT_AMT_AMT|REV_CNTR_TOT_CHRG_AMT|REV_CNTR_NCVRD_CHRG_AMT|REV_CNTR_STUS_IND_CD|REV_CNTR_NDC_QTY|REV_CNTR_NDC_QTY_QLFR_CD|RNDRNG_PHYSN_UPIN|RNDRNG_PHYSN_NPI\n",
       "0  -10000010254618|-10000930037832|W|40|16-Mar-20...                                                                                                                                                                                                                                                                                                                                                                                                                                                                                                                                                                                                                                                                                                                                                                                                                                                                                                                                                                                                                                                                                                                                                                                                                                                                                                                                                                                                                                                                                                                                                                                                                                                                                                                                                                                                                                                                                                                                                                                                                                                                                                                                                                                                                                                                                                                                                                                                                                                                                                                                                                                              \n",
       "1  -10000010254618|-10000930037833|W|40|27-Apr-20...                                                                                                                                                                                                                                                                                                                                                                                                                                                                                                                                                                                                                                                                                                                                                                                                                                                                                                                                                                                                                                                                                                                                                                                                                                                                                                                                                                                                                                                                                                                                                                                                                                                                                                                                                                                                                                                                                                                                                                                                                                                                                                                                                                                                                                                                                                                                                                                                                                                                                                                                                                                              \n",
       "2  -10000010254618|-10000930037834|W|40|23-May-20...                                                                                                                                                                                                                                                                                                                                                                                                                                                                                                                                                                                                                                                                                                                                                                                                                                                                                                                                                                                                                                                                                                                                                                                                                                                                                                                                                                                                                                                                                                                                                                                                                                                                                                                                                                                                                                                                                                                                                                                                                                                                                                                                                                                                                                                                                                                                                                                                                                                                                                                                                                                              \n",
       "3  -10000010254618|-10000930037835|W|40|01-Jun-20...                                                                                                                                                                                                                                                                                                                                                                                                                                                                                                                                                                                                                                                                                                                                                                                                                                                                                                                                                                                                                                                                                                                                                                                                                                                                                                                                                                                                                                                                                                                                                                                                                                                                                                                                                                                                                                                                                                                                                                                                                                                                                                                                                                                                                                                                                                                                                                                                                                                                                                                                                                                              \n",
       "4  -10000010254618|-10000930037836|W|40|14-Jun-20...                                                                                                                                                                                                                                                                                                                                                                                                                                                                                                                                                                                                                                                                                                                                                                                                                                                                                                                                                                                                                                                                                                                                                                                                                                                                                                                                                                                                                                                                                                                                                                                                                                                                                                                                                                                                                                                                                                                                                                                                                                                                                                                                                                                                                                                                                                                                                                                                                                                                                                                                                                                              "
      ]
     },
     "execution_count": 8,
     "metadata": {},
     "output_type": "execute_result"
    }
   ],
   "source": [
    "a.head()"
   ]
  },
  {
   "cell_type": "code",
   "execution_count": null,
   "metadata": {},
   "outputs": [],
   "source": []
  }
 ],
 "metadata": {
  "kernelspec": {
   "display_name": "Python 3",
   "language": "python",
   "name": "python3"
  },
  "language_info": {
   "codemirror_mode": {
    "name": "ipython",
    "version": 3
   },
   "file_extension": ".py",
   "mimetype": "text/x-python",
   "name": "python",
   "nbconvert_exporter": "python",
   "pygments_lexer": "ipython3",
   "version": "3.11.9"
  }
 },
 "nbformat": 4,
 "nbformat_minor": 2
}
